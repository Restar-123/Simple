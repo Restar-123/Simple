{
 "cells": [
  {
   "cell_type": "code",
   "id": "initial_id",
   "metadata": {
    "collapsed": true,
    "ExecuteTime": {
     "end_time": "2024-12-14T04:12:02.303076Z",
     "start_time": "2024-12-14T04:12:02.271828Z"
    }
   },
   "source": [
    "import os\n",
    "\n",
    "def list_subfolders(directory):\n",
    "    subfolders = [f.path for f in os.scandir(directory) if f.is_dir()]\n",
    "    return subfolders\n",
    "\n",
    "# 使用示例\n",
    "directory = \"details/other/mtad_gat/aamp2\"\n",
    "folders = list_subfolders(directory)"
   ],
   "outputs": [],
   "execution_count": 1
  },
  {
   "metadata": {
    "ExecuteTime": {
     "end_time": "2024-12-14T04:12:10.717215Z",
     "start_time": "2024-12-14T04:12:10.685969Z"
    }
   },
   "cell_type": "code",
   "source": "folders[0]",
   "id": "7961db13fe4f0ff3",
   "outputs": [
    {
     "data": {
      "text/plain": [
       "'details/other/mtad_gat/aamp2\\\\train_model_04e53933'"
      ]
     },
     "execution_count": 2,
     "metadata": {},
     "output_type": "execute_result"
    }
   ],
   "execution_count": 2
  },
  {
   "metadata": {
    "ExecuteTime": {
     "end_time": "2024-12-14T04:15:04.774969Z",
     "start_time": "2024-12-14T04:15:04.759348Z"
    }
   },
   "cell_type": "code",
   "source": [
    "import json\n",
    "\n",
    "def read_memory_size(file_path):\n",
    "    try:\n",
    "        # 读取 JSON 文件\n",
    "        with open(file_path, 'r') as file:\n",
    "            data = json.load(file)\n",
    "        \n",
    "        # 提取数字\n",
    "        memory_size = data.get(\"memory_size\")\n",
    "        \n",
    "        # 验证范围\n",
    "        if not isinstance(memory_size, int) or not (10 <= memory_size <= 100):\n",
    "            raise ValueError(f\"memory_size 不在范围 10 到 100 内：{memory_size}\")\n",
    "        \n",
    "        return memory_size\n",
    "    \n",
    "    except (json.JSONDecodeError, FileNotFoundError) as e:\n",
    "        print(f\"读取文件出错: {e}\")\n",
    "        return None\n"
   ],
   "id": "647bbbcaa5e41f8",
   "outputs": [],
   "execution_count": 4
  },
  {
   "metadata": {
    "ExecuteTime": {
     "end_time": "2024-12-14T04:22:04.417929Z",
     "start_time": "2024-12-14T04:22:04.402304Z"
    }
   },
   "cell_type": "code",
   "source": [
    "def read_and_format_last_lines(file_path, num_lines=11):\n",
    "    try:\n",
    "        with open(file_path, 'r') as file:\n",
    "            lines = file.readlines()[-num_lines:]  # 读取最后 num_lines 行\n",
    "        \n",
    "        formatted_lines = []\n",
    "        for line in lines:\n",
    "            if line.strip():  # 跳过空行\n",
    "                try:\n",
    "                    # 判断是否为 JSON 数据\n",
    "                    parsed_line = json.loads(line.strip())\n",
    "                    formatted_lines.append(json.dumps(parsed_line, indent=4, ensure_ascii=False))\n",
    "                except json.JSONDecodeError:\n",
    "                    # 不是 JSON 数据，直接追加\n",
    "                    formatted_lines.append(line.strip())\n",
    "        \n",
    "        return \"\\n\".join(formatted_lines)\n",
    "    \n",
    "    except FileNotFoundError:\n",
    "        return f\"文件 {file_path} 未找到。\""
   ],
   "id": "572bfea809d1285a",
   "outputs": [],
   "execution_count": 11
  },
  {
   "metadata": {
    "ExecuteTime": {
     "end_time": "2024-12-14T04:24:59.811535Z",
     "start_time": "2024-12-14T04:24:59.795911Z"
    }
   },
   "cell_type": "code",
   "source": [
    "for path in folders:\n",
    "    json_path = path + '/config.json'\n",
    "    memory_size = read_memory_size(json_path)\n",
    "    log_path = path + '/execution.log'\n",
    "    lines = read_and_format_last_lines(log_path)\n",
    "    \n",
    "    print(path)\n",
    "    print(memory_size)\n",
    "    print(lines)\n",
    "    print()\n",
    "    print()\n",
    "    print()\n",
    "    break"
   ],
   "id": "e81c49defa7abf9d",
   "outputs": [
    {
     "name": "stdout",
     "output_type": "stream",
     "text": [
      "details/other/mtad_gat/aamp2\\train_model_04e53933\n",
      "86\n",
      "12-14 11:25:13 INFO {\n",
      "\"best\": \"{'length': 69950, 'ac': 0.9479485346676197, 'pc': 0.92369383181979, 'rc': 0.8696907445450003, 'f1': 0.8958792072978925, 'delay': 0.06994314123710625}\",\n",
      "\"best_adjusted\": \"{'length': 69950, 'ac': 0.9939242315939957, 'pc': 0.9934897294870356, 'rc': 0.9828438176669813, 'f1': 0.9881381004214463, 'delay': 0.0}\",\n",
      "\"dataset_id\": \"CVT\",\n",
      "\"eps\": \"{'length': 69950, 'ac': 0.9481772694781987, 'pc': 0.9293815663801337, 'rc': 0.8644161901060463, 'f1': 0.89572246353882, 'delay': 0.07168211567248532}\",\n",
      "\"eps_adjusted\": \"{'length': 69950, 'ac': 0.9801286633309507, 'pc': 0.9376942118291463, 'rc': 0.9885070234856477, 'f1': 0.962430401643332, 'delay': 0.0}\",\n",
      "\"exp_id\": \"mtad_gat_CVT\",\n",
      "\"model_id\": \"mtad_gat\",\n",
      "\"pot\": \"{'length': 69950, 'ac': 0.9140528949249463, 'pc': 0.7601352816199107, 'rc': 0.9733496196768642, 'f1': 0.8536300335978966, 'delay': 0.01355971259335686}\",\n",
      "\"pot_adjusted\": \"{'length': 69950, 'ac': 0.9209149392423159, 'pc': 0.7650256976596016, 'rc': 1.0, 'f1': 0.8668720219473456, 'delay': 0.0}\"\n",
      "}\n",
      "\n",
      "\n",
      "\n"
     ]
    }
   ],
   "execution_count": 15
  },
  {
   "metadata": {
    "ExecuteTime": {
     "end_time": "2024-12-14T04:28:07.363514Z",
     "start_time": "2024-12-14T04:28:07.318811Z"
    }
   },
   "cell_type": "code",
   "source": [
    "output_file = \"output_sorted.txt\"  # 指定输出文件路径\n",
    "\n",
    "# 存储文件夹数据 (memory_size, lines, path)\n",
    "folder_data = []\n",
    "\n",
    "# 遍历文件夹，提取数据\n",
    "for path in folders:\n",
    "    json_path = path + '/config.json'\n",
    "    memory_size = read_memory_size(json_path)\n",
    "    \n",
    "    # 如果 memory_size 是 None，跳过该文件夹\n",
    "    if memory_size is None:\n",
    "        print(f\"警告：文件夹 {path} 的 memory_size 无效，已跳过。\")\n",
    "        continue\n",
    "    \n",
    "    log_path = path + '/execution.log'\n",
    "    lines = read_and_format_last_lines(log_path)\n",
    "    \n",
    "    # 存储 memory_size、日志内容和路径\n",
    "    folder_data.append((memory_size, lines, path))\n",
    "\n",
    "# 按 memory_size 排序\n",
    "folder_data.sort(key=lambda x: x[0])  # x[0] 是 memory_size\n",
    "\n",
    "# 写入文件\n",
    "with open(output_file, \"w\", encoding=\"utf-8\") as file:\n",
    "    for memory_size, lines, path in folder_data:\n",
    "        # 写入文件夹路径和 memory_size\n",
    "        file.write(f\"Folder: {path}\\n\")\n",
    "        file.write(f\"Memory Size: {memory_size}\\n\\n\")\n",
    "        \n",
    "        # 写入日志内容\n",
    "        file.write(\"Execution Log (Last 11 Lines):\\n\")\n",
    "        file.write(lines)\n",
    "        file.write(\"\\n\\n\\n\")  # 添加间隔\n",
    "\n",
    "print(f\"内容已按 memory_size 排序并写入文件：{output_file}\")\n"
   ],
   "id": "b29cd8629c511f3d",
   "outputs": [
    {
     "name": "stdout",
     "output_type": "stream",
     "text": [
      "读取文件出错: [Errno 2] No such file or directory: 'details/other/mtad_gat/aamp2\\\\train_model_9c64a54f/config.json'\n",
      "警告：文件夹 details/other/mtad_gat/aamp2\\train_model_9c64a54f 的 memory_size 无效，已跳过。\n",
      "内容已按 memory_size 排序并写入文件：output_sorted.txt\n"
     ]
    }
   ],
   "execution_count": 17
  },
  {
   "metadata": {},
   "cell_type": "code",
   "outputs": [],
   "execution_count": null,
   "source": "",
   "id": "aa5e674a3188f76b"
  }
 ],
 "metadata": {
  "kernelspec": {
   "display_name": "Python 3",
   "language": "python",
   "name": "python3"
  },
  "language_info": {
   "codemirror_mode": {
    "name": "ipython",
    "version": 2
   },
   "file_extension": ".py",
   "mimetype": "text/x-python",
   "name": "python",
   "nbconvert_exporter": "python",
   "pygments_lexer": "ipython2",
   "version": "2.7.6"
  }
 },
 "nbformat": 4,
 "nbformat_minor": 5
}
