{
 "cells": [
  {
   "cell_type": "code",
   "execution_count": 1,
   "id": "df01502a",
   "metadata": {},
   "outputs": [],
   "source": [
    "import numpy as np\n",
    "import pandas as pd\n",
    "import pickle"
   ]
  },
  {
   "cell_type": "markdown",
   "source": [
    "# 保存训练集"
   ],
   "metadata": {
    "collapsed": false
   },
   "id": "e9026e6c5df5aca5"
  },
  {
   "cell_type": "code",
   "execution_count": 2,
   "id": "595e9df9",
   "metadata": {},
   "outputs": [],
   "source": [
    "df = pd.read_csv(\"../data/CVT/train.csv\")"
   ]
  },
  {
   "cell_type": "code",
   "execution_count": 3,
   "id": "bde36875",
   "metadata": {},
   "outputs": [
    {
     "data": {
      "text/plain": "340000"
     },
     "execution_count": 3,
     "metadata": {},
     "output_type": "execute_result"
    }
   ],
   "source": [
    "len(df)"
   ]
  },
  {
   "cell_type": "code",
   "execution_count": 7,
   "outputs": [],
   "source": [
    "df = df.loc[:, ['a', 'b', 'c']]"
   ],
   "metadata": {
    "collapsed": false
   },
   "id": "29c54e0bbfbd4a4b"
  },
  {
   "cell_type": "code",
   "execution_count": null,
   "outputs": [],
   "source": [
    "df"
   ],
   "metadata": {
    "collapsed": false,
    "pycharm": {
     "is_executing": true
    }
   },
   "id": "c544cc6b1ad01625"
  },
  {
   "cell_type": "code",
   "execution_count": 9,
   "outputs": [],
   "source": [
    "numpy_train = df.to_numpy()"
   ],
   "metadata": {
    "collapsed": false
   },
   "id": "e44dba1e0c1e8d89"
  },
  {
   "cell_type": "code",
   "execution_count": null,
   "outputs": [],
   "source": [
    "numpy_train"
   ],
   "metadata": {
    "collapsed": false,
    "pycharm": {
     "is_executing": true
    }
   },
   "id": "ead537f3b3d63321"
  },
  {
   "cell_type": "code",
   "execution_count": 11,
   "outputs": [],
   "source": [
    "import pickle\n",
    "\n",
    "with open(\"../data/CVT/cvt_train.pkl\", \"wb\") as f:\n",
    "    pickle.dump(numpy_train, f)"
   ],
   "metadata": {
    "collapsed": false
   },
   "id": "63e708db977cc9f0"
  },
  {
   "cell_type": "markdown",
   "source": [
    "# 测试集数据处理"
   ],
   "metadata": {
    "collapsed": false
   },
   "id": "786dee676d96358d"
  },
  {
   "cell_type": "code",
   "id": "704de53b",
   "metadata": {
    "ExecuteTime": {
     "end_time": "2024-12-12T09:36:20.782111Z",
     "start_time": "2024-12-12T09:36:20.710425Z"
    }
   },
   "source": [
    "import numpy as np\n",
    "import pandas as pd\n",
    "import pickle\n",
    "\n",
    "df = pd.read_csv(\"../data/CVT/test.csv\")\n",
    "\n",
    "# 假设我们有一个标签列表，初始时全是 0，表示正常数据\n",
    "labels = np.zeros(len(df))\n",
    "\n",
    "\n",
    "# 设置异常数据的长度和数量\n",
    "num_anomalies = 150  # 需要插入异常数据的数量\n",
    "anomaly_length = 50  # 每个异常区段的长度（例如50行）\n",
    "\n",
    "# 生成异常数据的起始位置\n",
    "np.random.seed(2024)  # 设置随机种子以确保结果可重现\n",
    "anomaly_start_indices = np.random.choice(len(df) - anomaly_length, num_anomalies, replace=False)\n",
    "\n",
    "# 对每个异常区段进行处理\n",
    "for start_idx in anomaly_start_indices:\n",
    "    # 在这段连续区间内加入异常，假设我们在第0列数据上增加0.3%模拟异常\n",
    "    df.iloc[start_idx:start_idx + anomaly_length, 0] *= 1.002  # 这里模拟在第0列增加1%的异常\n",
    "    labels[start_idx:start_idx + anomaly_length] = 1  # 将这段区间标记为异常\n",
    "\n",
    "# 将标签添加为 DataFrame 的一列\n",
    "df['Label'] = labels\n",
    "\n",
    "df['Label'] = df['Label'].astype(int)\n",
    "print(df['Label'].sum())\n",
    "df_label = df.iloc[:,-1]\n",
    "df_test = df.iloc[:,:-1]"
   ],
   "outputs": [
    {
     "name": "stdout",
     "output_type": "stream",
     "text": [
      "7063\n"
     ]
    }
   ],
   "execution_count": 12
  },
  {
   "cell_type": "code",
   "source": [
    "numpy_test = df_test.to_numpy()\n",
    "numpy_label = df_label.to_numpy()\n",
    "\n",
    "with open(\"../data/CVT/cvt_test_03.pkl\", \"wb\") as f:\n",
    "    pickle.dump(numpy_test, f)\n",
    "\n",
    "with open(\"../data/CVT/cvt_test_label_03.pkl\", \"wb\") as f:\n",
    "    pickle.dump(numpy_label, f)"
   ],
   "metadata": {
    "collapsed": false,
    "ExecuteTime": {
     "end_time": "2024-12-12T09:36:21.170765Z",
     "start_time": "2024-12-12T09:36:21.157456Z"
    }
   },
   "id": "3b75c29f1194ab3d",
   "outputs": [],
   "execution_count": 13
  },
  {
   "metadata": {},
   "cell_type": "markdown",
   "source": "# 第二种方法",
   "id": "772b767c656cd975"
  },
  {
   "cell_type": "code",
   "source": [
    "import numpy as np\n",
    "import pandas as pd\n",
    "import pickle\n",
    "\n",
    "# 假设有一个原始数据框\n",
    "np.random.seed(2024)  # 设置随机种子以确保可复现\n",
    "df = pd.read_csv(\"../data/CVT/test.csv\")\n",
    "\n",
    "n = df.shape[0]\n",
    "\n",
    "# 随机选择多个误差时间段\n",
    "num_error_segments = np.random.randint(200, 220)  # 随机选择误差段数，200到250段\n",
    "\n",
    "# 用于标记误差的列\n",
    "df['label'] = 0\n",
    "\n",
    "# 存储已使用的误差段区间\n",
    "occupied_intervals = []\n",
    "\n",
    "# 设置每列发生误差的概率\n",
    "error_probabilities = {'a': 0.3, 'b': 0.5, 'c': 0.6}  # 'a' 列 60% 概率，'b' 列 50% 概率，'c' 列 30% 概率\n",
    "\n",
    "# 生成误差段\n",
    "error_segments = []\n",
    "for _ in range(num_error_segments):\n",
    "    # 随机选择误差段的开始位置和持续时间\n",
    "    error_start = np.random.randint(0, n - 100)  # 错误开始位置\n",
    "    error_length = np.random.randint(80, 100)  # 错误持续时间\n",
    "\n",
    "    # 记录这个误差段\n",
    "    occupied_intervals.append((error_start, error_length))\n",
    "\n",
    "    # 根据设置的概率选择需要施加误差的列\n",
    "    columns_to_error = []\n",
    "    for col, prob in error_probabilities.items():\n",
    "        if np.random.rand() < prob:  # 根据概率决定是否施加误差\n",
    "            columns_to_error.append(col)\n",
    "\n",
    "    # 如果没有列被选中，则强制选中'a'列\n",
    "    if len(columns_to_error) == 0:\n",
    "        columns_to_error.append('a')\n",
    "\n",
    "    # 随机选择误差幅度，在 0.2% 到 0.3% 之间浮动\n",
    "    error_percentage = np.random.uniform(0.002, 0.003)\n",
    "\n",
    "    # 记录误差段\n",
    "    error_segments.append((error_start, error_length, columns_to_error, error_percentage))\n",
    "\n",
    "# 对每个误差段施加误差\n",
    "for error_start, error_length, columns_to_error, error_percentage in error_segments:\n",
    "    for col in columns_to_error:\n",
    "        df.loc[error_start:error_start + error_length, [col]] *= (1 + error_percentage)\n",
    "    df.loc[error_start:error_start + error_length, 'label'] = 1\n"
   ],
   "metadata": {
    "collapsed": false,
    "ExecuteTime": {
     "end_time": "2024-12-16T05:05:27.957318Z",
     "start_time": "2024-12-16T05:05:27.426372Z"
    }
   },
   "id": "1743459dae917d03",
   "outputs": [],
   "execution_count": 19
  },
  {
   "cell_type": "code",
   "source": [
    "df_label = df.iloc[:,-1]\n",
    "df_test = df.iloc[:,:-1]\n",
    "\n",
    "numpy_test = df_test.to_numpy()\n",
    "numpy_label = df_label.to_numpy()\n",
    "\n",
    "with open(\"../data/CVT/cvt_test_00.pkl\", \"wb\") as f:\n",
    "    pickle.dump(numpy_test, f)\n",
    "\n",
    "with open(\"../data/CVT/cvt_test_label_00.pkl\", \"wb\") as f:\n",
    "    pickle.dump(numpy_label, f)"
   ],
   "metadata": {
    "collapsed": false,
    "ExecuteTime": {
     "end_time": "2024-12-16T05:05:27.969264Z",
     "start_time": "2024-12-16T05:05:27.958313Z"
    }
   },
   "id": "79fe9d2345b77d58",
   "outputs": [],
   "execution_count": 20
  },
  {
   "cell_type": "code",
   "execution_count": null,
   "outputs": [],
   "source": [],
   "metadata": {
    "collapsed": false
   },
   "id": "aa11397f61f3c32c"
  }
 ],
 "metadata": {
  "kernelspec": {
   "display_name": "Python 3 (ipykernel)",
   "language": "python",
   "name": "python3"
  },
  "language_info": {
   "codemirror_mode": {
    "name": "ipython",
    "version": 3
   },
   "file_extension": ".py",
   "mimetype": "text/x-python",
   "name": "python",
   "nbconvert_exporter": "python",
   "pygments_lexer": "ipython3",
   "version": "3.7.13"
  }
 },
 "nbformat": 4,
 "nbformat_minor": 5
}
